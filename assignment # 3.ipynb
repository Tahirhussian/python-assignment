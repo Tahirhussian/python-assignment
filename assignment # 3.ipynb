{
 "cells": [
  {
   "cell_type": "markdown",
   "id": "7a547e5b",
   "metadata": {},
   "source": [
    "# 1"
   ]
  },
  {
   "cell_type": "code",
   "execution_count": 2,
   "id": "2c85047b",
   "metadata": {},
   "outputs": [
    {
     "name": "stdout",
     "output_type": "stream",
     "text": [
      "Twinkle, twinkle, little star\n",
      "\tHow I wonder what you are!\n",
      "\t\tUp above the world so high,\n",
      "\t\tLike a diamond in the sky.\n",
      "Twinkle, twinkle, little star,\n",
      "\tHow I wonder what you are\n"
     ]
    }
   ],
   "source": [
    "print(\"Twinkle, twinkle, little star\", end='\\n\\t');\n",
    "print( \"How I wonder what you are!\", end='\\n\\t\\t');\n",
    "print(\"Up above the world so high,\" , end='\\n\\t\\t');\n",
    "print(\"Like a diamond in the sky.\");\n",
    "print(\"Twinkle, twinkle, little star,\", end='\\n\\t');\n",
    "print(\"How I wonder what you are\");"
   ]
  },
  {
   "cell_type": "markdown",
   "id": "96496146",
   "metadata": {},
   "source": [
    "# 2"
   ]
  },
  {
   "cell_type": "code",
   "execution_count": 3,
   "id": "ff026633",
   "metadata": {},
   "outputs": [
    {
     "name": "stdout",
     "output_type": "stream",
     "text": [
      "3.8.8\n"
     ]
    }
   ],
   "source": [
    "\n",
    "from platform import python_version;\n",
    "print(python_version());\n"
   ]
  },
  {
   "cell_type": "markdown",
   "id": "853a7203",
   "metadata": {},
   "source": [
    "# 3"
   ]
  },
  {
   "cell_type": "code",
   "execution_count": 4,
   "id": "d2bc351e",
   "metadata": {},
   "outputs": [
    {
     "name": "stdout",
     "output_type": "stream",
     "text": [
      "now = 2021-10-24 03:25:31.241481\n",
      "date and time = 24/10/2021 03:25:31\n"
     ]
    }
   ],
   "source": [
    "from datetime import datetime;\n",
    "now = datetime.now();\n",
    "print(\"now =\", now);\n",
    "dt_string = now.strftime(\"%d/%m/%Y %H:%M:%S\");\n",
    "print(\"date and time =\", dt_string);"
   ]
  },
  {
   "cell_type": "markdown",
   "id": "3e7d64ea",
   "metadata": {},
   "source": [
    "# 4"
   ]
  },
  {
   "cell_type": "code",
   "execution_count": 5,
   "id": "997ad353",
   "metadata": {},
   "outputs": [
    {
     "name": "stdout",
     "output_type": "stream",
     "text": [
      "Enter radius of circle : 50\n",
      "Area of the circle is: 7853.981633974483\n"
     ]
    }
   ],
   "source": [
    "from math import pi;\n",
    "r = float(input (\"Enter radius of circle : \"));\n",
    "print (\"Area of the circle is: \" + str(pi * r**2));"
   ]
  },
  {
   "cell_type": "markdown",
   "id": "86f35f25",
   "metadata": {},
   "source": [
    "# 5"
   ]
  },
  {
   "cell_type": "code",
   "execution_count": 6,
   "id": "4eca635d",
   "metadata": {},
   "outputs": [
    {
     "name": "stdout",
     "output_type": "stream",
     "text": [
      "enter your first name tahir\n",
      "enter your last name hussain\n",
      "hussain tahir\n"
     ]
    }
   ],
   "source": [
    "first_name= input(\"enter your first name \");\n",
    "last_name = input(\"enter your last name \");\n",
    "print (last_name,first_name);"
   ]
  },
  {
   "cell_type": "markdown",
   "id": "cb7269b5",
   "metadata": {},
   "source": [
    "# 6 "
   ]
  },
  {
   "cell_type": "code",
   "execution_count": 7,
   "id": "33ce5bd1",
   "metadata": {},
   "outputs": [
    {
     "name": "stdout",
     "output_type": "stream",
     "text": [
      "10\n",
      "60\n",
      "70\n"
     ]
    }
   ],
   "source": [
    "first_nu=int(input());\n",
    "second_nu=int(input());\n",
    "print(first_nu+second_nu);"
   ]
  },
  {
   "cell_type": "markdown",
   "id": "6932a467",
   "metadata": {},
   "source": [
    "# 7"
   ]
  },
  {
   "cell_type": "code",
   "execution_count": 8,
   "id": "14d0e539",
   "metadata": {},
   "outputs": [
    {
     "name": "stdout",
     "output_type": "stream",
     "text": [
      "islamit marks 76\n",
      "math marks 7\n",
      "english marks 76\n",
      "urdu marks 76\n",
      "sindhi marks 76\n",
      "Grade B\n"
     ]
    }
   ],
   "source": [
    "isl=int(input(\"islamit marks \"))\n",
    "math=int(input(\"math marks \"))\n",
    "eng=int(input(\"english marks \"))\n",
    "urdu=int(input(\"urdu marks \"))\n",
    "sindhi=int(input(\"sindhi marks \"))\n",
    "total_marks= 500\n",
    "obtain_marks=isl+math+eng+urdu+sindhi\n",
    "percent = obtain_marks/total_marks*100\n",
    "if percent<100 and percent>=80:\n",
    "    print(\"Gade A+\");\n",
    "elif percent<100 and percent >=70:\n",
    "    print(\"Grade A\");\n",
    "elif percent<100 and percent >=60:\n",
    "    print(\"Grade B\")\n",
    "elif percent<100 and percent >=50:\n",
    "    print(\"Grade C\");\n",
    "elif percent<100 and percent >=40:\n",
    "    print(\"Grade D\");\n",
    "elif percent<100 and percent >=33:\n",
    "    print(\"Grade E\");\n",
    "else:\n",
    "    print(\"Fail\")"
   ]
  },
  {
   "cell_type": "markdown",
   "id": "b7310d4a",
   "metadata": {},
   "source": [
    "# 8"
   ]
  },
  {
   "cell_type": "code",
   "execution_count": 9,
   "id": "1ce967e5",
   "metadata": {},
   "outputs": [
    {
     "name": "stdout",
     "output_type": "stream",
     "text": [
      "enter your number 65\n",
      "odd\n"
     ]
    }
   ],
   "source": [
    "num=int(input(\"enter your number \"));\n",
    "if (num%2) ==0:\n",
    "    print(\"even\");\n",
    "else:\n",
    "    print(\"odd\");"
   ]
  },
  {
   "cell_type": "markdown",
   "id": "c042ab35",
   "metadata": {},
   "source": [
    "# 9"
   ]
  },
  {
   "cell_type": "code",
   "execution_count": 11,
   "id": "f7d44e59",
   "metadata": {
    "scrolled": true
   },
   "outputs": [
    {
     "data": {
      "text/plain": [
       "9"
      ]
     },
     "execution_count": 11,
     "metadata": {},
     "output_type": "execute_result"
    }
   ],
   "source": [
    "numbers =[1,2,3,4,5,6,7,8,9];\n",
    "len(numbers)"
   ]
  },
  {
   "cell_type": "markdown",
   "id": "03dce129",
   "metadata": {},
   "source": [
    "# 10"
   ]
  },
  {
   "cell_type": "code",
   "execution_count": 12,
   "id": "4ebf75b9",
   "metadata": {},
   "outputs": [
    {
     "name": "stdout",
     "output_type": "stream",
     "text": [
      "45\n"
     ]
    }
   ],
   "source": [
    "numbers =[1,2,3,4,5,6,7,8,9];\n",
    "print (sum(numbers));"
   ]
  },
  {
   "cell_type": "markdown",
   "id": "3b0b5324",
   "metadata": {},
   "source": [
    "# 11"
   ]
  },
  {
   "cell_type": "code",
   "execution_count": 14,
   "id": "70271391",
   "metadata": {},
   "outputs": [
    {
     "data": {
      "text/plain": [
       "9"
      ]
     },
     "execution_count": 14,
     "metadata": {},
     "output_type": "execute_result"
    }
   ],
   "source": [
    "numbers =[1,2,3,4,5,6,7,8,9];\n",
    "max(numbers)"
   ]
  },
  {
   "cell_type": "markdown",
   "id": "9960005d",
   "metadata": {},
   "source": [
    "# 12"
   ]
  },
  {
   "cell_type": "code",
   "execution_count": 15,
   "id": "6671ca81",
   "metadata": {},
   "outputs": [
    {
     "name": "stdout",
     "output_type": "stream",
     "text": [
      "[1, 1, 2, 3]\n"
     ]
    }
   ],
   "source": [
    "a = [1, 1, 2, 3, 5, 8, 13, 21, 34, 55, 89];\n",
    "print(a[:4]);"
   ]
  }
 ],
 "metadata": {
  "kernelspec": {
   "display_name": "Python 3",
   "language": "python",
   "name": "python3"
  },
  "language_info": {
   "codemirror_mode": {
    "name": "ipython",
    "version": 3
   },
   "file_extension": ".py",
   "mimetype": "text/x-python",
   "name": "python",
   "nbconvert_exporter": "python",
   "pygments_lexer": "ipython3",
   "version": "3.8.8"
  }
 },
 "nbformat": 4,
 "nbformat_minor": 5
}
